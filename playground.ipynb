{
 "cells": [
  {
   "cell_type": "code",
   "execution_count": null,
   "metadata": {},
   "outputs": [],
   "source": [
    "# ! pip install vanna[chromadb,openai] -q"
   ]
  },
  {
   "cell_type": "code",
   "execution_count": 1,
   "metadata": {},
   "outputs": [
    {
     "name": "stderr",
     "output_type": "stream",
     "text": [
      "c:\\Users\\0200704\\.conda\\envs\\tf-gpu\\Lib\\site-packages\\onnxruntime\\capi\\onnxruntime_validation.py:26: UserWarning: Unsupported Windows version (2022server). ONNX Runtime supports Windows 10 and above, only.\n",
      "  warnings.warn(\n"
     ]
    }
   ],
   "source": [
    "from vanna.openai import OpenAI_Chat\n",
    "from vanna.chromadb import ChromaDB_VectorStore\n"
   ]
  },
  {
   "cell_type": "code",
   "execution_count": 2,
   "metadata": {},
   "outputs": [],
   "source": [
    "openai_api = ' '"
   ]
  },
  {
   "cell_type": "code",
   "execution_count": 3,
   "metadata": {},
   "outputs": [],
   "source": [
    "class MyVanna(ChromaDB_VectorStore, OpenAI_Chat):\n",
    "    def __init__(self, config=None):\n",
    "        ChromaDB_VectorStore.__init__(self, config=config)\n",
    "        OpenAI_Chat.__init__(self, config=config)\n",
    "\n",
    "vn = MyVanna(config={'api_key': openai_api, 'model': 'gpt-4o'})"
   ]
  },
  {
   "cell_type": "code",
   "execution_count": 4,
   "metadata": {},
   "outputs": [
    {
     "name": "stdout",
     "output_type": "stream",
     "text": [
      "The history saving thread hit an unexpected error (OperationalError('database or disk is full')).History will not be written to the database.\n"
     ]
    }
   ],
   "source": [
    "vn.connect_to_sqlite('QRM.db')"
   ]
  },
  {
   "cell_type": "code",
   "execution_count": 5,
   "metadata": {},
   "outputs": [
    {
     "data": {
      "text/plain": [
       "'832a69b8-3cbf-5068-8ec4-dc1f2fd7c19f-sql'"
      ]
     },
     "execution_count": 5,
     "metadata": {},
     "output_type": "execute_result"
    }
   ],
   "source": [
    "# New way to train the Question and SQL pair \n",
    "# \n",
    "vn.train(\n",
    "    question=\"How many months of data we have in Utility?\", \n",
    "    sql=\"SELECT COUNT(DISTINCT strftime('%Y-%m', date_column)) AS months FROM Utility\"\n",
    ")"
   ]
  },
  {
   "cell_type": "code",
   "execution_count": 7,
   "metadata": {},
   "outputs": [
    {
     "name": "stderr",
     "output_type": "stream",
     "text": [
      "Number of requested results 10 is greater than number of elements in index 2, updating n_results = 2\n",
      "Number of requested results 10 is greater than number of elements in index 1, updating n_results = 1\n",
      "Number of requested results 10 is greater than number of elements in index 1, updating n_results = 1\n"
     ]
    },
    {
     "name": "stdout",
     "output_type": "stream",
     "text": [
      "SQL Prompt: [{'role': 'system', 'content': 'You are a SQLite expert. Please help to generate a SQL query to answer the question. Your response should ONLY be based on the given context and follow the response guidelines and format instructions. \\n===Tables \\nCREATE TABLE \"utility\" (\\n\"Month-Year\" TEXT,\\n  \"Product\" TEXT,\\n  \"Utility\" TEXT,\\n  \"Particulars\" TEXT,\\n  \"UOM\" TEXT,\\n  \"Bplan\" REAL,\\n  \"Target\" REAL,\\n  \"Actual\" REAL,\\n  \"Bplan  Var %\" TEXT,\\n  \"Target  Var %\" TEXT,\\n  \"Plant\" TEXT\\n)\\n\\n\\n===Additional Context \\n\\nThe \\'Utility\\' table contains the Utility for QRM data.\\n\\n===Response Guidelines \\n1. If the provided context is sufficient, please generate a valid SQL query without any explanations for the question. \\n2. If the provided context is almost sufficient but requires knowledge of a specific string in a particular column, please generate an intermediate SQL query to find the distinct strings in that column. Prepend the query with a comment saying intermediate_sql \\n3. If the provided context is insufficient, please explain why it can\\'t be generated. \\n4. Please use the most relevant table(s). \\n5. If the question has been asked and answered before, please repeat the answer exactly as it was given before. \\n6. Ensure that the output SQL is SQLite-compliant and executable, and free of syntax errors. \\n'}, {'role': 'user', 'content': 'How many months of data we have in Utility?'}, {'role': 'assistant', 'content': \"SELECT COUNT(DISTINCT strftime('%Y-%m', date_column)) AS months FROM Utility\"}, {'role': 'user', 'content': 'How many months of data we have in Utility?'}, {'role': 'assistant', 'content': 'SELECT COUNT(DISTINCT \"Month-Year\") AS number_of_months FROM utility;'}, {'role': 'user', 'content': 'How many months of data we have in Utility?'}]\n",
      "Using model gpt-4o for 385.25 tokens (approx)\n"
     ]
    },
    {
     "name": "stderr",
     "output_type": "stream",
     "text": [
      "Number of requested results 10 is greater than number of elements in index 2, updating n_results = 2\n",
      "Number of requested results 10 is greater than number of elements in index 1, updating n_results = 1\n"
     ]
    },
    {
     "name": "stdout",
     "output_type": "stream",
     "text": [
      "LLM Response: SELECT COUNT(DISTINCT \"Month-Year\") AS number_of_months FROM utility;\n",
      "Extracted SQL: SELECT COUNT(DISTINCT \"Month-Year\") AS number_of_months FROM utility;\n"
     ]
    },
    {
     "name": "stderr",
     "output_type": "stream",
     "text": [
      "Number of requested results 10 is greater than number of elements in index 1, updating n_results = 1\n"
     ]
    },
    {
     "data": {
      "text/plain": [
       "[{'role': 'system',\n",
       "  'content': \"You are a SQLite expert. Please help to generate a SQL query to answer the question. Your response should ONLY be based on the given context and follow the response guidelines and format instructions. \\n===Tables \\nCREATE TABLE utility (id INT, date_column DATE, usage DECIMAL, cost DECIMAL)\\n\\n\\n===Additional Context \\n\\nThe utility table contains utility usage data, including date, usage amount, and cost.\\n\\n===Response Guidelines \\n1. If the provided context is sufficient, please generate a valid SQL query without any explanations for the question. \\n2. If the provided context is almost sufficient but requires knowledge of a specific string in a particular column, please generate an intermediate SQL query to find the distinct strings in that column. Prepend the query with a comment saying intermediate_sql \\n3. If the provided context is insufficient, please explain why it can't be generated. \\n4. Please use the most relevant table(s). \\n5. If the question has been asked and answered before, please repeat the answer exactly as it was given before. \\n6. Ensure that the output SQL is SQLite-compliant and executable, and free of syntax errors. \\n\"},\n",
       " {'role': 'user', 'content': 'How many months of data do we have in Utility?'},\n",
       " {'role': 'assistant',\n",
       "  'content': \"SELECT COUNT(DISTINCT strftime('%Y-%m', date_column)) AS months FROM utility\"},\n",
       " {'role': 'user', 'content': 'How many months of data do we have in Utility?'}]"
      ]
     },
     "execution_count": 7,
     "metadata": {},
     "output_type": "execute_result"
    }
   ],
   "source": [
    "question = \"How many months of data we have in Utility?\"\n",
    "vn.generate_sql(question)\n",
    "\n",
    "# Above function will call following functions\n",
    "\n",
    "# get_similar_question_sql\n",
    "vn.get_similar_question_sql(question)\n",
    "\n",
    "# get_related_ddl\n",
    "vn.get_related_ddl(question) \n",
    "# get_related_documentation\n",
    "vn.get_related_documentation(question)\n",
    "# get_sql_prompt\n",
    "vn.get_sql_prompt(\n",
    "    initial_prompt = None,\n",
    "    question=\"How many months of data do we have in Utility?\",\n",
    "    question_sql_list=[\n",
    "        {\n",
    "            \"question\": \"How many months of data do we have in Utility?\",\n",
    "            \"sql\": \"SELECT COUNT(DISTINCT strftime('%Y-%m', date_column)) AS months FROM utility\"\n",
    "        }\n",
    "    ],\n",
    "    ddl_list=[\n",
    "        \"CREATE TABLE utility (id INT, date_column DATE, usage DECIMAL, cost DECIMAL)\"\n",
    "    ],\n",
    "    doc_list=[\n",
    "        \"The utility table contains utility usage data, including date, usage amount, and cost.\"\n",
    "    ],\n",
    ")\n",
    "# submit_prompt"
   ]
  },
  {
   "cell_type": "code",
   "execution_count": 12,
   "metadata": {},
   "outputs": [],
   "source": [
    "# For run the generated sql query\n",
    "\n",
    "df = vn.run_sql(\"SELECT * FROM utility\")"
   ]
  },
  {
   "cell_type": "code",
   "execution_count": 13,
   "metadata": {},
   "outputs": [
    {
     "name": "stdout",
     "output_type": "stream",
     "text": [
      "Using model gpt-4o for 98.25 tokens (approx)\n"
     ]
    },
    {
     "data": {
      "text/plain": [
       "'import plotly.express as px\\nimport plotly.graph_objects as go\\n\\nif df.size == 1:\\n    fig = go.Figure(go.Indicator(\\n        mode = \"number\",\\n        value = df.iloc[0, 0]\\n    ))\\nelse:\\n    fig = px.line(df)\\n    \\n'"
      ]
     },
     "execution_count": 13,
     "metadata": {},
     "output_type": "execute_result"
    }
   ],
   "source": [
    "# Will generate the plotly code\n",
    "# Need R&D\n",
    "vn.generate_plotly_code()"
   ]
  },
  {
   "cell_type": "code",
   "execution_count": 14,
   "metadata": {},
   "outputs": [
    {
     "data": {
      "application/vnd.plotly.v1+json": {
       "config": {
        "plotlyServerURL": "https://plot.ly"
       },
       "data": [
        {
         "hovertemplate": "Bplan=%{x}<br>Target=%{y}<extra></extra>",
         "legendgroup": "",
         "marker": {
          "color": "#636efa",
          "symbol": "circle"
         },
         "mode": "markers",
         "name": "",
         "orientation": "v",
         "showlegend": false,
         "type": "scatter",
         "x": [
          53.5,
          53,
          1.77,
          5.5,
          4,
          1.17,
          0.87,
          0.94,
          8900,
          1000,
          350,
          65.88,
          4.29,
          3.55,
          7.88,
          5.24,
          0.29,
          0.13,
          0.1,
          850,
          0.93,
          2.17,
          3300,
          550,
          1.3,
          0.9,
          33.5,
          1.1,
          7.74,
          1.15,
          5.96,
          0.16,
          1.7,
          0.55,
          0.39,
          0.22,
          0.25,
          21320,
          385,
          1580,
          1500,
          6.15,
          2.1,
          40.04,
          2.5,
          14,
          0.13,
          1.9,
          8.46,
          0.05,
          0.3,
          1.7,
          0.79,
          0.2,
          0.33,
          0.24,
          27087,
          395,
          1620,
          1200,
          0.15,
          1.27,
          5,
          11.61,
          270,
          3100,
          3680,
          0,
          0,
          0,
          1.3,
          0.9,
          33.5,
          1.1,
          7.74,
          1.15,
          5.96,
          0.16,
          1.71,
          0.57,
          0.39,
          0.28,
          0.28,
          21320,
          385,
          1580,
          1500,
          6.15,
          2.1,
          40.04,
          2.5,
          14,
          0.13,
          1.9,
          8.46,
          0.05,
          0.3,
          1.71,
          0.79,
          0.2,
          0.33,
          0.23,
          27087,
          395,
          1620,
          1200,
          0.15,
          1.28,
          5.28,
          11.68,
          270,
          3100,
          3680,
          0,
          0,
          0,
          53.5,
          53,
          1.77,
          5.5,
          4,
          1.17,
          0.87,
          0.94,
          8900,
          1000,
          350,
          65.88,
          4.29,
          3.55,
          7.88,
          5.24,
          0.32,
          0.14,
          0.11,
          850,
          0.93,
          2.17,
          3300,
          550,
          1.3,
          0.9,
          33.5,
          1.1,
          7.74,
          1.15,
          5.96,
          0.16,
          1.7,
          0.56,
          0.39,
          0.18,
          0.26,
          21320,
          385,
          1580,
          1500,
          6.15,
          2.1,
          40.04,
          2.5,
          14,
          0.13,
          1.9,
          8.46,
          0.05,
          0.3,
          1.7,
          0.75,
          0.2,
          0.29,
          0.3,
          27087,
          395,
          1620,
          1200,
          0.15,
          1.28,
          5.28,
          11.68,
          270,
          3100,
          3680,
          0,
          0,
          0,
          53.5,
          53,
          1.77,
          5.5,
          4,
          1.17,
          0.87,
          0.94,
          8900,
          1000,
          350,
          65.88,
          4.29,
          3.55,
          7.88,
          5.24,
          0.28,
          0.13,
          0.09,
          850,
          0.93,
          2.02,
          3300,
          550,
          1.3,
          0.9,
          33.5,
          1.1,
          7.74,
          1.15,
          5.96,
          0.16,
          1.98,
          0.56,
          0.39,
          0.13,
          0.23,
          21320,
          385,
          1580,
          1500,
          6.15,
          2.1,
          40.04,
          2.5,
          14,
          1.9,
          8.46,
          0.05,
          0.3,
          2.21,
          0.73,
          0.2,
          0.23,
          0.26,
          27087,
          395,
          1620,
          1200,
          0.15,
          1.2,
          5.13,
          10.75,
          270,
          3100,
          3680,
          0,
          0,
          0,
          53.5,
          53,
          1.77,
          5.5,
          4,
          1.17,
          0.87,
          0.94,
          8900,
          1000,
          350,
          65.88,
          4.29,
          3.55,
          7.88,
          5.24,
          0.3,
          0.13,
          0.1,
          850,
          0.93,
          2.02,
          3300,
          550,
          1.3,
          0.9,
          33.5,
          1.1,
          7.74,
          1.15,
          5.96,
          0.16,
          1.98,
          0.6,
          0.39,
          0.13,
          0.26,
          25449,
          385,
          1580,
          1500,
          6.15,
          2.1,
          40.04,
          2.5,
          14,
          1.9,
          8.46,
          0.05,
          0.3,
          2.21,
          0.72,
          0.2,
          0.21,
          0.24,
          27087,
          395,
          1620,
          1200,
          0.15,
          1.19,
          4.99,
          10.58,
          270,
          3100,
          3680,
          0,
          0,
          0,
          53.5,
          53,
          1.77,
          5.5,
          4,
          1.17,
          0.87,
          0.94,
          8900,
          1000,
          350,
          65.88,
          4.29,
          3.55,
          7.88,
          5.24,
          0.3,
          0.13,
          0.1,
          850,
          0.93,
          2.02,
          3300,
          550,
          1.3,
          0.9,
          33.5,
          1.1,
          7.74,
          1.15,
          5.96,
          0.16,
          1.98,
          0.57,
          0.39,
          0.07,
          0.25,
          25064,
          385,
          1580,
          1500,
          6.15,
          2.1,
          40.04,
          2.5,
          14,
          1.9,
          8.46,
          0.05,
          0.3,
          2.21,
          0.74,
          0.2,
          0.11,
          27087,
          395,
          1620,
          1200,
          0.12,
          0.15,
          1.19,
          4.98,
          10.68,
          270,
          3100,
          3680,
          0,
          0,
          0,
          1.3,
          0.9,
          33.5,
          1.1,
          7.74,
          1.15,
          5.96,
          0.16,
          1.98,
          0.57,
          0.4,
          0.07,
          0.25,
          25064,
          385,
          1580,
          1500,
          6.15,
          2.1,
          40.04,
          2.5,
          14,
          0.13,
          1.9,
          8.46,
          0.05,
          0.3,
          2.21,
          0.73,
          0.19,
          0.12,
          0.23,
          27087,
          395,
          1620,
          1200,
          270,
          3100,
          3680,
          3300,
          1.18,
          4.98,
          10.62,
          0.93,
          0,
          0,
          0,
          53.5,
          53,
          1.77,
          5.5,
          4,
          1.17,
          0.87,
          0.94,
          8900,
          1000,
          350,
          65.88,
          4.29,
          3.55,
          7.88,
          5.24,
          0.29,
          0.13,
          0.1,
          850,
          0.93,
          2.02,
          3300,
          550,
          53.5,
          53,
          1.77,
          5.5,
          4,
          1.17,
          0.87,
          0.94,
          8900,
          1000,
          350,
          65.88,
          4.13,
          3.41,
          7.58,
          5.24,
          0.3,
          0.14,
          0.1,
          850,
          2.02,
          0.12,
          0.15,
          550
         ],
         "xaxis": "x",
         "y": [
          53.66,
          53.66,
          1.77,
          5.99,
          4,
          1.2,
          0.92,
          0.94,
          8900,
          1000,
          350,
          61.62,
          3.16,
          2.54,
          5.6,
          4.8,
          0.42,
          0.14,
          0.09,
          850,
          0.91,
          2.35,
          3300,
          550,
          1.3,
          0.9,
          33.5,
          1.1,
          7.74,
          1.15,
          6.32,
          0.16,
          1.7,
          0.56,
          0.39,
          0.22,
          0.25,
          21320,
          385,
          1580,
          1500,
          6.15,
          2.1,
          40.04,
          2.5,
          14,
          0.13,
          1.9,
          8.75,
          0.05,
          0.3,
          1.7,
          0.79,
          0.2,
          0.33,
          0.24,
          27087,
          395,
          1620,
          1200,
          0.15,
          1.27,
          5,
          11.61,
          270,
          3100,
          3680,
          0,
          0,
          0,
          0,
          0,
          0,
          0,
          0,
          0,
          0,
          0,
          1.71,
          0,
          0,
          0,
          0,
          21320,
          385,
          1580,
          1500,
          0,
          0,
          0,
          0,
          0,
          0,
          0,
          0,
          0,
          0,
          1.71,
          0,
          0,
          0.33,
          0.23,
          27087,
          395,
          1620,
          1200,
          0.15,
          1.28,
          5.28,
          11.68,
          270,
          3100,
          3680,
          0,
          0,
          0,
          52.56,
          52.56,
          1.77,
          6.21,
          4,
          1.2,
          0.89,
          0.94,
          8900,
          1000,
          350,
          56.4,
          3.16,
          2.54,
          5.6,
          4.8,
          0.37,
          0.13,
          0.1,
          850,
          1.01,
          2.38,
          3300,
          550,
          0,
          0,
          0,
          0,
          0,
          0,
          0,
          0,
          1.7,
          0,
          0,
          0,
          0,
          21320,
          385,
          1580,
          1500,
          0,
          0,
          0,
          0,
          0,
          0,
          0,
          0,
          0,
          0,
          1.7,
          0,
          0,
          0.29,
          0.3,
          27087,
          395,
          1620,
          1200,
          0.15,
          1.28,
          5.28,
          11.68,
          270,
          3100,
          3680,
          0,
          0,
          0,
          58.54,
          58.54,
          1.77,
          6.19,
          4,
          1.2,
          0.96,
          0.97,
          8900,
          1000,
          350,
          59.16,
          3.16,
          2.54,
          5.6,
          4.8,
          0.32,
          0.12,
          0.09,
          850,
          1,
          2.24,
          3300,
          550,
          1.3,
          0.9,
          33.37,
          1.1,
          7.74,
          1.15,
          6.35,
          0.16,
          1.98,
          0.56,
          0.39,
          0.13,
          0.23,
          21320,
          385,
          1580,
          1500,
          6.15,
          2.1,
          40.04,
          2.5,
          14,
          1.9,
          8.46,
          0.05,
          0.3,
          2.21,
          0.73,
          0.2,
          0.23,
          0.26,
          27087,
          395,
          1620,
          1200,
          0.15,
          1.28,
          4.75,
          11.08,
          270,
          3100,
          3680,
          0,
          0,
          0,
          59.77,
          59.77,
          1.77,
          6.38,
          4,
          1.18,
          1.03,
          0.95,
          8900,
          1000,
          350,
          54.09,
          3.47,
          2.59,
          6.3,
          4.28,
          0.33,
          0.13,
          0.09,
          850,
          1.13,
          2.17,
          3300,
          550,
          1.3,
          0.9,
          33.23,
          1.1,
          7.74,
          1.15,
          6.12,
          0.16,
          1.98,
          0.64,
          0.39,
          0.13,
          0.26,
          25449,
          385,
          1580,
          1500,
          6.15,
          2.1,
          46.39,
          2.5,
          14,
          1.9,
          9.67,
          0.05,
          0.3,
          2.21,
          0.74,
          0.2,
          0.21,
          0.21,
          27087,
          395,
          1620,
          1200,
          0.15,
          1.26,
          4.82,
          10.91,
          270,
          3100,
          3680,
          0,
          0,
          0,
          57.64,
          57.64,
          1.77,
          5.94,
          4,
          1.19,
          1.05,
          0.98,
          8900,
          1000,
          350,
          59.04,
          3.33,
          2.68,
          6.26,
          4.58,
          0.37,
          0.14,
          0.1,
          850,
          1.12,
          2.22,
          3300,
          550,
          1.3,
          0.9,
          33.5,
          1.1,
          7.74,
          1.16,
          6.24,
          0.16,
          1.98,
          0.61,
          0.4,
          0.07,
          0.25,
          25064,
          385,
          1580,
          1500,
          6.15,
          2.1,
          46.39,
          2.5,
          14,
          1.9,
          9.06,
          0.05,
          0.3,
          2.21,
          0.82,
          0.2,
          0.11,
          27087,
          395,
          1620,
          1200,
          0.12,
          0.15,
          1.26,
          4.98,
          11.24,
          270,
          3100,
          3680,
          0,
          0,
          0,
          1.3,
          0.9,
          33.5,
          1.1,
          7.74,
          1.16,
          6.21,
          0.16,
          1.98,
          0.57,
          0.4,
          0.07,
          0.25,
          25064,
          385,
          1580,
          1500,
          6.15,
          2.1,
          40.04,
          2.5,
          14,
          0.13,
          1.9,
          9.69,
          0.05,
          0.3,
          2.21,
          0.73,
          0.19,
          0.12,
          0.23,
          27087,
          395,
          1620,
          1200,
          270,
          3100,
          3680,
          3300,
          1.18,
          4.64,
          11.29,
          1.14,
          0,
          0,
          0,
          53.35,
          53.35,
          1.77,
          5.48,
          4,
          1.19,
          1.06,
          0.96,
          8900,
          1000,
          350,
          54.2,
          3.13,
          2.41,
          5.74,
          4.39,
          0.39,
          0.14,
          0.1,
          850,
          1.11,
          2.38,
          3300,
          550,
          53.35,
          53.35,
          1.77,
          5.5,
          4,
          1.19,
          1.06,
          0.91,
          8900,
          1000,
          350,
          47.58,
          3.1,
          2.69,
          6.15,
          3.63,
          0.37,
          0.14,
          0.1,
          850,
          2.18,
          0.12,
          0.15,
          550
         ],
         "yaxis": "y"
        }
       ],
       "layout": {
        "legend": {
         "tracegroupgap": 0
        },
        "margin": {
         "t": 60
        },
        "template": {
         "data": {
          "bar": [
           {
            "error_x": {
             "color": "#f2f5fa"
            },
            "error_y": {
             "color": "#f2f5fa"
            },
            "marker": {
             "line": {
              "color": "rgb(17,17,17)",
              "width": 0.5
             },
             "pattern": {
              "fillmode": "overlay",
              "size": 10,
              "solidity": 0.2
             }
            },
            "type": "bar"
           }
          ],
          "barpolar": [
           {
            "marker": {
             "line": {
              "color": "rgb(17,17,17)",
              "width": 0.5
             },
             "pattern": {
              "fillmode": "overlay",
              "size": 10,
              "solidity": 0.2
             }
            },
            "type": "barpolar"
           }
          ],
          "carpet": [
           {
            "aaxis": {
             "endlinecolor": "#A2B1C6",
             "gridcolor": "#506784",
             "linecolor": "#506784",
             "minorgridcolor": "#506784",
             "startlinecolor": "#A2B1C6"
            },
            "baxis": {
             "endlinecolor": "#A2B1C6",
             "gridcolor": "#506784",
             "linecolor": "#506784",
             "minorgridcolor": "#506784",
             "startlinecolor": "#A2B1C6"
            },
            "type": "carpet"
           }
          ],
          "choropleth": [
           {
            "colorbar": {
             "outlinewidth": 0,
             "ticks": ""
            },
            "type": "choropleth"
           }
          ],
          "contour": [
           {
            "colorbar": {
             "outlinewidth": 0,
             "ticks": ""
            },
            "colorscale": [
             [
              0,
              "#0d0887"
             ],
             [
              0.1111111111111111,
              "#46039f"
             ],
             [
              0.2222222222222222,
              "#7201a8"
             ],
             [
              0.3333333333333333,
              "#9c179e"
             ],
             [
              0.4444444444444444,
              "#bd3786"
             ],
             [
              0.5555555555555556,
              "#d8576b"
             ],
             [
              0.6666666666666666,
              "#ed7953"
             ],
             [
              0.7777777777777778,
              "#fb9f3a"
             ],
             [
              0.8888888888888888,
              "#fdca26"
             ],
             [
              1,
              "#f0f921"
             ]
            ],
            "type": "contour"
           }
          ],
          "contourcarpet": [
           {
            "colorbar": {
             "outlinewidth": 0,
             "ticks": ""
            },
            "type": "contourcarpet"
           }
          ],
          "heatmap": [
           {
            "colorbar": {
             "outlinewidth": 0,
             "ticks": ""
            },
            "colorscale": [
             [
              0,
              "#0d0887"
             ],
             [
              0.1111111111111111,
              "#46039f"
             ],
             [
              0.2222222222222222,
              "#7201a8"
             ],
             [
              0.3333333333333333,
              "#9c179e"
             ],
             [
              0.4444444444444444,
              "#bd3786"
             ],
             [
              0.5555555555555556,
              "#d8576b"
             ],
             [
              0.6666666666666666,
              "#ed7953"
             ],
             [
              0.7777777777777778,
              "#fb9f3a"
             ],
             [
              0.8888888888888888,
              "#fdca26"
             ],
             [
              1,
              "#f0f921"
             ]
            ],
            "type": "heatmap"
           }
          ],
          "heatmapgl": [
           {
            "colorbar": {
             "outlinewidth": 0,
             "ticks": ""
            },
            "colorscale": [
             [
              0,
              "#0d0887"
             ],
             [
              0.1111111111111111,
              "#46039f"
             ],
             [
              0.2222222222222222,
              "#7201a8"
             ],
             [
              0.3333333333333333,
              "#9c179e"
             ],
             [
              0.4444444444444444,
              "#bd3786"
             ],
             [
              0.5555555555555556,
              "#d8576b"
             ],
             [
              0.6666666666666666,
              "#ed7953"
             ],
             [
              0.7777777777777778,
              "#fb9f3a"
             ],
             [
              0.8888888888888888,
              "#fdca26"
             ],
             [
              1,
              "#f0f921"
             ]
            ],
            "type": "heatmapgl"
           }
          ],
          "histogram": [
           {
            "marker": {
             "pattern": {
              "fillmode": "overlay",
              "size": 10,
              "solidity": 0.2
             }
            },
            "type": "histogram"
           }
          ],
          "histogram2d": [
           {
            "colorbar": {
             "outlinewidth": 0,
             "ticks": ""
            },
            "colorscale": [
             [
              0,
              "#0d0887"
             ],
             [
              0.1111111111111111,
              "#46039f"
             ],
             [
              0.2222222222222222,
              "#7201a8"
             ],
             [
              0.3333333333333333,
              "#9c179e"
             ],
             [
              0.4444444444444444,
              "#bd3786"
             ],
             [
              0.5555555555555556,
              "#d8576b"
             ],
             [
              0.6666666666666666,
              "#ed7953"
             ],
             [
              0.7777777777777778,
              "#fb9f3a"
             ],
             [
              0.8888888888888888,
              "#fdca26"
             ],
             [
              1,
              "#f0f921"
             ]
            ],
            "type": "histogram2d"
           }
          ],
          "histogram2dcontour": [
           {
            "colorbar": {
             "outlinewidth": 0,
             "ticks": ""
            },
            "colorscale": [
             [
              0,
              "#0d0887"
             ],
             [
              0.1111111111111111,
              "#46039f"
             ],
             [
              0.2222222222222222,
              "#7201a8"
             ],
             [
              0.3333333333333333,
              "#9c179e"
             ],
             [
              0.4444444444444444,
              "#bd3786"
             ],
             [
              0.5555555555555556,
              "#d8576b"
             ],
             [
              0.6666666666666666,
              "#ed7953"
             ],
             [
              0.7777777777777778,
              "#fb9f3a"
             ],
             [
              0.8888888888888888,
              "#fdca26"
             ],
             [
              1,
              "#f0f921"
             ]
            ],
            "type": "histogram2dcontour"
           }
          ],
          "mesh3d": [
           {
            "colorbar": {
             "outlinewidth": 0,
             "ticks": ""
            },
            "type": "mesh3d"
           }
          ],
          "parcoords": [
           {
            "line": {
             "colorbar": {
              "outlinewidth": 0,
              "ticks": ""
             }
            },
            "type": "parcoords"
           }
          ],
          "pie": [
           {
            "automargin": true,
            "type": "pie"
           }
          ],
          "scatter": [
           {
            "marker": {
             "line": {
              "color": "#283442"
             }
            },
            "type": "scatter"
           }
          ],
          "scatter3d": [
           {
            "line": {
             "colorbar": {
              "outlinewidth": 0,
              "ticks": ""
             }
            },
            "marker": {
             "colorbar": {
              "outlinewidth": 0,
              "ticks": ""
             }
            },
            "type": "scatter3d"
           }
          ],
          "scattercarpet": [
           {
            "marker": {
             "colorbar": {
              "outlinewidth": 0,
              "ticks": ""
             }
            },
            "type": "scattercarpet"
           }
          ],
          "scattergeo": [
           {
            "marker": {
             "colorbar": {
              "outlinewidth": 0,
              "ticks": ""
             }
            },
            "type": "scattergeo"
           }
          ],
          "scattergl": [
           {
            "marker": {
             "line": {
              "color": "#283442"
             }
            },
            "type": "scattergl"
           }
          ],
          "scattermapbox": [
           {
            "marker": {
             "colorbar": {
              "outlinewidth": 0,
              "ticks": ""
             }
            },
            "type": "scattermapbox"
           }
          ],
          "scatterpolar": [
           {
            "marker": {
             "colorbar": {
              "outlinewidth": 0,
              "ticks": ""
             }
            },
            "type": "scatterpolar"
           }
          ],
          "scatterpolargl": [
           {
            "marker": {
             "colorbar": {
              "outlinewidth": 0,
              "ticks": ""
             }
            },
            "type": "scatterpolargl"
           }
          ],
          "scatterternary": [
           {
            "marker": {
             "colorbar": {
              "outlinewidth": 0,
              "ticks": ""
             }
            },
            "type": "scatterternary"
           }
          ],
          "surface": [
           {
            "colorbar": {
             "outlinewidth": 0,
             "ticks": ""
            },
            "colorscale": [
             [
              0,
              "#0d0887"
             ],
             [
              0.1111111111111111,
              "#46039f"
             ],
             [
              0.2222222222222222,
              "#7201a8"
             ],
             [
              0.3333333333333333,
              "#9c179e"
             ],
             [
              0.4444444444444444,
              "#bd3786"
             ],
             [
              0.5555555555555556,
              "#d8576b"
             ],
             [
              0.6666666666666666,
              "#ed7953"
             ],
             [
              0.7777777777777778,
              "#fb9f3a"
             ],
             [
              0.8888888888888888,
              "#fdca26"
             ],
             [
              1,
              "#f0f921"
             ]
            ],
            "type": "surface"
           }
          ],
          "table": [
           {
            "cells": {
             "fill": {
              "color": "#506784"
             },
             "line": {
              "color": "rgb(17,17,17)"
             }
            },
            "header": {
             "fill": {
              "color": "#2a3f5f"
             },
             "line": {
              "color": "rgb(17,17,17)"
             }
            },
            "type": "table"
           }
          ]
         },
         "layout": {
          "annotationdefaults": {
           "arrowcolor": "#f2f5fa",
           "arrowhead": 0,
           "arrowwidth": 1
          },
          "autotypenumbers": "strict",
          "coloraxis": {
           "colorbar": {
            "outlinewidth": 0,
            "ticks": ""
           }
          },
          "colorscale": {
           "diverging": [
            [
             0,
             "#8e0152"
            ],
            [
             0.1,
             "#c51b7d"
            ],
            [
             0.2,
             "#de77ae"
            ],
            [
             0.3,
             "#f1b6da"
            ],
            [
             0.4,
             "#fde0ef"
            ],
            [
             0.5,
             "#f7f7f7"
            ],
            [
             0.6,
             "#e6f5d0"
            ],
            [
             0.7,
             "#b8e186"
            ],
            [
             0.8,
             "#7fbc41"
            ],
            [
             0.9,
             "#4d9221"
            ],
            [
             1,
             "#276419"
            ]
           ],
           "sequential": [
            [
             0,
             "#0d0887"
            ],
            [
             0.1111111111111111,
             "#46039f"
            ],
            [
             0.2222222222222222,
             "#7201a8"
            ],
            [
             0.3333333333333333,
             "#9c179e"
            ],
            [
             0.4444444444444444,
             "#bd3786"
            ],
            [
             0.5555555555555556,
             "#d8576b"
            ],
            [
             0.6666666666666666,
             "#ed7953"
            ],
            [
             0.7777777777777778,
             "#fb9f3a"
            ],
            [
             0.8888888888888888,
             "#fdca26"
            ],
            [
             1,
             "#f0f921"
            ]
           ],
           "sequentialminus": [
            [
             0,
             "#0d0887"
            ],
            [
             0.1111111111111111,
             "#46039f"
            ],
            [
             0.2222222222222222,
             "#7201a8"
            ],
            [
             0.3333333333333333,
             "#9c179e"
            ],
            [
             0.4444444444444444,
             "#bd3786"
            ],
            [
             0.5555555555555556,
             "#d8576b"
            ],
            [
             0.6666666666666666,
             "#ed7953"
            ],
            [
             0.7777777777777778,
             "#fb9f3a"
            ],
            [
             0.8888888888888888,
             "#fdca26"
            ],
            [
             1,
             "#f0f921"
            ]
           ]
          },
          "colorway": [
           "#636efa",
           "#EF553B",
           "#00cc96",
           "#ab63fa",
           "#FFA15A",
           "#19d3f3",
           "#FF6692",
           "#B6E880",
           "#FF97FF",
           "#FECB52"
          ],
          "font": {
           "color": "#f2f5fa"
          },
          "geo": {
           "bgcolor": "rgb(17,17,17)",
           "lakecolor": "rgb(17,17,17)",
           "landcolor": "rgb(17,17,17)",
           "showlakes": true,
           "showland": true,
           "subunitcolor": "#506784"
          },
          "hoverlabel": {
           "align": "left"
          },
          "hovermode": "closest",
          "mapbox": {
           "style": "dark"
          },
          "paper_bgcolor": "rgb(17,17,17)",
          "plot_bgcolor": "rgb(17,17,17)",
          "polar": {
           "angularaxis": {
            "gridcolor": "#506784",
            "linecolor": "#506784",
            "ticks": ""
           },
           "bgcolor": "rgb(17,17,17)",
           "radialaxis": {
            "gridcolor": "#506784",
            "linecolor": "#506784",
            "ticks": ""
           }
          },
          "scene": {
           "xaxis": {
            "backgroundcolor": "rgb(17,17,17)",
            "gridcolor": "#506784",
            "gridwidth": 2,
            "linecolor": "#506784",
            "showbackground": true,
            "ticks": "",
            "zerolinecolor": "#C8D4E3"
           },
           "yaxis": {
            "backgroundcolor": "rgb(17,17,17)",
            "gridcolor": "#506784",
            "gridwidth": 2,
            "linecolor": "#506784",
            "showbackground": true,
            "ticks": "",
            "zerolinecolor": "#C8D4E3"
           },
           "zaxis": {
            "backgroundcolor": "rgb(17,17,17)",
            "gridcolor": "#506784",
            "gridwidth": 2,
            "linecolor": "#506784",
            "showbackground": true,
            "ticks": "",
            "zerolinecolor": "#C8D4E3"
           }
          },
          "shapedefaults": {
           "line": {
            "color": "#f2f5fa"
           }
          },
          "sliderdefaults": {
           "bgcolor": "#C8D4E3",
           "bordercolor": "rgb(17,17,17)",
           "borderwidth": 1,
           "tickwidth": 0
          },
          "ternary": {
           "aaxis": {
            "gridcolor": "#506784",
            "linecolor": "#506784",
            "ticks": ""
           },
           "baxis": {
            "gridcolor": "#506784",
            "linecolor": "#506784",
            "ticks": ""
           },
           "bgcolor": "rgb(17,17,17)",
           "caxis": {
            "gridcolor": "#506784",
            "linecolor": "#506784",
            "ticks": ""
           }
          },
          "title": {
           "x": 0.05
          },
          "updatemenudefaults": {
           "bgcolor": "#506784",
           "borderwidth": 0
          },
          "xaxis": {
           "automargin": true,
           "gridcolor": "#283442",
           "linecolor": "#506784",
           "ticks": "",
           "title": {
            "standoff": 15
           },
           "zerolinecolor": "#283442",
           "zerolinewidth": 2
          },
          "yaxis": {
           "automargin": true,
           "gridcolor": "#283442",
           "linecolor": "#506784",
           "ticks": "",
           "title": {
            "standoff": 15
           },
           "zerolinecolor": "#283442",
           "zerolinewidth": 2
          }
         }
        },
        "xaxis": {
         "anchor": "y",
         "domain": [
          0,
          1
         ],
         "title": {
          "text": "Bplan"
         }
        },
        "yaxis": {
         "anchor": "x",
         "domain": [
          0,
          1
         ],
         "title": {
          "text": "Target"
         }
        }
       }
      }
     },
     "metadata": {},
     "output_type": "display_data"
    }
   ],
   "source": [
    "# Aboves code output is input for this function\n",
    "\n",
    "\n",
    "fig = vn.get_plotly_figure(\n",
    "    plotly_code=\"fig = px.bar(df, x='name', y='salary')\",\n",
    "    df=df\n",
    ")\n",
    "fig.show()"
   ]
  }
 ],
 "metadata": {
  "kernelspec": {
   "display_name": "Python 3",
   "language": "python",
   "name": "python3"
  },
  "language_info": {
   "codemirror_mode": {
    "name": "ipython",
    "version": 3
   },
   "file_extension": ".py",
   "mimetype": "text/x-python",
   "name": "python",
   "nbconvert_exporter": "python",
   "pygments_lexer": "ipython3",
   "version": "3.12.5"
  }
 },
 "nbformat": 4,
 "nbformat_minor": 2
}
