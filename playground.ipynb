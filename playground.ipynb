{
 "cells": [
  {
   "cell_type": "code",
   "execution_count": null,
   "metadata": {},
   "outputs": [],
   "source": [
    "# ! pip install vanna[chromadb,openai] -q"
   ]
  },
  {
   "cell_type": "code",
   "execution_count": null,
   "metadata": {},
   "outputs": [],
   "source": [
    "from vanna.openai import OpenAI_Chat\n",
    "from vanna.chromadb import ChromaDB_VectorStore\n"
   ]
  },
  {
   "cell_type": "code",
   "execution_count": null,
   "metadata": {},
   "outputs": [],
   "source": [
    "openai_api = ''"
   ]
  },
  {
   "cell_type": "code",
   "execution_count": null,
   "metadata": {},
   "outputs": [],
   "source": [
    "class MyVanna(ChromaDB_VectorStore, OpenAI_Chat):\n",
    "    def __init__(self, config=None):\n",
    "        ChromaDB_VectorStore.__init__(self, config=config)\n",
    "        OpenAI_Chat.__init__(self, config=config)\n",
    "\n",
    "vn = MyVanna(config={'api_key': openai_api, 'model': 'gpt-4o'})"
   ]
  },
  {
   "cell_type": "code",
   "execution_count": null,
   "metadata": {},
   "outputs": [],
   "source": [
    "vn.connect_to_sqlite('QRM.db')"
   ]
  },
  {
   "cell_type": "code",
   "execution_count": null,
   "metadata": {},
   "outputs": [],
   "source": [
    "# New way to train the Question and SQL pair \n",
    "# \n",
    "vn.train(\n",
    "    question=\"What is the average age of our customers?\", \n",
    "    sql=\"SELECT AVG(age) FROM customers\"\n",
    ")"
   ]
  },
  {
   "cell_type": "code",
   "execution_count": null,
   "metadata": {},
   "outputs": [],
   "source": [
    "vn.generate_sql(\"What are the top 10 customers by sales?\")\n",
    "\n",
    "# Above function will call following functions\n",
    "\n",
    "# get_similar_question_sql\n",
    "\n",
    "# get_related_ddl\n",
    "\n",
    "# get_related_documentation\n",
    "\n",
    "# get_sql_prompt\n",
    "\n",
    "# submit_prompt"
   ]
  },
  {
   "cell_type": "code",
   "execution_count": null,
   "metadata": {},
   "outputs": [],
   "source": [
    "# For run the generated sql query\n",
    "\n",
    "vn.run_sql(\"SELECT * FROM my_table\")"
   ]
  },
  {
   "cell_type": "code",
   "execution_count": null,
   "metadata": {},
   "outputs": [],
   "source": [
    "# Will generate the plotly code\n",
    "# Need R&D\n",
    "vn.generate_plotly_code()"
   ]
  },
  {
   "cell_type": "code",
   "execution_count": null,
   "metadata": {},
   "outputs": [],
   "source": [
    "# Aboves code output is input for this function\n",
    "\n",
    "\n",
    "fig = vn.get_plotly_figure(\n",
    "    plotly_code=\"fig = px.bar(df, x='name', y='salary')\",\n",
    "    df=df\n",
    ")\n",
    "fig.show()"
   ]
  }
 ],
 "metadata": {
  "language_info": {
   "name": "python"
  }
 },
 "nbformat": 4,
 "nbformat_minor": 2
}
